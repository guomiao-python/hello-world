{
 "cells": [
  {
   "cell_type": "code",
   "execution_count": 15,
   "metadata": {},
   "outputs": [
    {
     "name": "stdout",
     "output_type": "stream",
     "text": [
      "a 18\n",
      "b 28\n",
      "c 38\n",
      "d 48\n"
     ]
    }
   ],
   "source": [
    "names=['a','b','c','d']\n",
    "ages=[18,28,38,48]\n",
    "for i in range(len(names)):\n",
    "    print(names[i],ages[i])"
   ]
  },
  {
   "cell_type": "code",
   "execution_count": 7,
   "metadata": {},
   "outputs": [
    {
     "name": "stdout",
     "output_type": "stream",
     "text": [
      "a 18\n",
      "b 28\n",
      "c 38\n",
      "d 48\n"
     ]
    }
   ],
   "source": [
    "names=['a','b','c','d']\n",
    "ages=[18,28,38,48]\n",
    "for name,age in zip(names,ages):\n",
    "    print(name,age)"
   ]
  },
  {
   "cell_type": "code",
   "execution_count": 9,
   "metadata": {},
   "outputs": [
    {
     "data": {
      "text/plain": [
       "[('a', 18), ('b', 28), ('c', 38), ('d', 48)]"
      ]
     },
     "execution_count": 9,
     "metadata": {},
     "output_type": "execute_result"
    }
   ],
   "source": [
    "a=list(zip(names,ages))\n",
    "a"
   ]
  },
  {
   "cell_type": "code",
   "execution_count": 10,
   "metadata": {},
   "outputs": [
    {
     "name": "stdout",
     "output_type": "stream",
     "text": [
      "1 a\n",
      "2 b\n",
      "3 c\n",
      "4 d\n"
     ]
    }
   ],
   "source": [
    "names=['a','b','c','d']\n",
    "\n",
    "i=1\n",
    "for name in names:\n",
    "    print(i,name)\n",
    "    i+=1\n"
   ]
  },
  {
   "cell_type": "code",
   "execution_count": 12,
   "metadata": {},
   "outputs": [
    {
     "data": {
      "text/plain": [
       "[(0, 'a'), (1, 'b'), (2, 'c'), (3, 'd')]"
      ]
     },
     "execution_count": 12,
     "metadata": {},
     "output_type": "execute_result"
    }
   ],
   "source": [
    "a=list(enumerate(names))\n",
    "a"
   ]
  },
  {
   "cell_type": "code",
   "execution_count": 13,
   "metadata": {},
   "outputs": [
    {
     "name": "stdout",
     "output_type": "stream",
     "text": [
      "[0, 1, 2, 3, 4, 5, 6, 7, 8, 9]\n",
      "[0, 1, 4, 9, 16, 25, 36, 49, 64, 81]\n"
     ]
    }
   ],
   "source": [
    "a=list(range(0,10))\n",
    "b=list()\n",
    "for item in a:\n",
    "    b.append(item*item)\n",
    "    \n",
    "print(a)\n",
    "print(b)"
   ]
  },
  {
   "cell_type": "code",
   "execution_count": 14,
   "metadata": {},
   "outputs": [
    {
     "data": {
      "text/plain": [
       "[0, 1, 4, 9, 16, 25, 36, 49, 64, 81]"
      ]
     },
     "execution_count": 14,
     "metadata": {},
     "output_type": "execute_result"
    }
   ],
   "source": [
    "b=[item*item for item in range(0,10)]\n",
    "b"
   ]
  },
  {
   "cell_type": "code",
   "execution_count": 18,
   "metadata": {},
   "outputs": [
    {
     "name": "stdout",
     "output_type": "stream",
     "text": [
      "[0, 6, 12, 18, 24, 30, 36, 42, 48, 54, 60, 66, 72, 78, 84, 90, 96, 102, 108, 114, 120, 126, 132, 138, 144, 150, 156, 162, 168, 174, 180, 186, 192, 198]\n"
     ]
    }
   ],
   "source": [
    "a=[item*2 for item in range(0,100) if item%3==0]\n",
    "print(a)"
   ]
  },
  {
   "cell_type": "code",
   "execution_count": 19,
   "metadata": {},
   "outputs": [
    {
     "name": "stdout",
     "output_type": "stream",
     "text": [
      "[(0, 1), (0, 2), (0, 3), (0, 4), (0, 5), (0, 6), (0, 7), (0, 8), (0, 9), (1, 1), (1, 2), (1, 3), (1, 4), (1, 5), (1, 6), (1, 7), (1, 8), (1, 9), (2, 1), (2, 2), (2, 3), (2, 4), (2, 5), (2, 6), (2, 7), (2, 8), (2, 9), (3, 1), (3, 2), (3, 3), (3, 4), (3, 5), (3, 6), (3, 7), (3, 8), (3, 9), (4, 1), (4, 2), (4, 3), (4, 4), (4, 5), (4, 6), (4, 7), (4, 8), (4, 9), (5, 1), (5, 2), (5, 3), (5, 4), (5, 5), (5, 6), (5, 7), (5, 8), (5, 9), (6, 1), (6, 2), (6, 3), (6, 4), (6, 5), (6, 6), (6, 7), (6, 8), (6, 9), (7, 1), (7, 2), (7, 3), (7, 4), (7, 5), (7, 6), (7, 7), (7, 8), (7, 9), (8, 1), (8, 2), (8, 3), (8, 4), (8, 5), (8, 6), (8, 7), (8, 8), (8, 9), (9, 1), (9, 2), (9, 3), (9, 4), (9, 5), (9, 6), (9, 7), (9, 8), (9, 9)]\n"
     ]
    }
   ],
   "source": [
    "coordinates=[]\n",
    "for x in range(0,10):\n",
    "    for y in range(1,10):\n",
    "          coordinates.append((x,y))  \n",
    "\n",
    "print(coordinates)"
   ]
  },
  {
   "cell_type": "code",
   "execution_count": 20,
   "metadata": {},
   "outputs": [
    {
     "name": "stdout",
     "output_type": "stream",
     "text": [
      "[(0, 0), (0, 1), (0, 2), (0, 3), (0, 4), (0, 5), (0, 6), (0, 7), (0, 8), (0, 9), (1, 0), (1, 1), (1, 2), (1, 3), (1, 4), (1, 5), (1, 6), (1, 7), (1, 8), (1, 9), (2, 0), (2, 1), (2, 2), (2, 3), (2, 4), (2, 5), (2, 6), (2, 7), (2, 8), (2, 9), (3, 0), (3, 1), (3, 2), (3, 3), (3, 4), (3, 5), (3, 6), (3, 7), (3, 8), (3, 9), (4, 0), (4, 1), (4, 2), (4, 3), (4, 4), (4, 5), (4, 6), (4, 7), (4, 8), (4, 9), (5, 0), (5, 1), (5, 2), (5, 3), (5, 4), (5, 5), (5, 6), (5, 7), (5, 8), (5, 9), (6, 0), (6, 1), (6, 2), (6, 3), (6, 4), (6, 5), (6, 6), (6, 7), (6, 8), (6, 9), (7, 0), (7, 1), (7, 2), (7, 3), (7, 4), (7, 5), (7, 6), (7, 7), (7, 8), (7, 9), (8, 0), (8, 1), (8, 2), (8, 3), (8, 4), (8, 5), (8, 6), (8, 7), (8, 8), (8, 9), (9, 0), (9, 1), (9, 2), (9, 3), (9, 4), (9, 5), (9, 6), (9, 7), (9, 8), (9, 9)]\n"
     ]
    }
   ],
   "source": [
    "coordinates=[(x,y) for x in range(0,10) for y in range(0,10)]\n",
    "print(coordinates)"
   ]
  },
  {
   "cell_type": "code",
   "execution_count": 26,
   "metadata": {},
   "outputs": [
    {
     "name": "stdout",
     "output_type": "stream",
     "text": [
      "['mark+mary', 'job+jane', 'soda+sandora']\n"
     ]
    }
   ],
   "source": [
    "girls=['jane','sandora','mary','betty']\n",
    "boys=['mark','job','soda']\n",
    "result=[boy+'+'+girl for boy in boys for girl in girls if boy[0]==girl[0]]\n",
    "print(result)"
   ]
  },
  {
   "cell_type": "code",
   "execution_count": 24,
   "metadata": {},
   "outputs": [
    {
     "name": "stdout",
     "output_type": "stream",
     "text": [
      "{0: 0, 1: 1, 2: 4, 3: 9, 4: 16, 5: 25, 6: 36, 7: 49, 8: 64, 9: 81}\n"
     ]
    }
   ],
   "source": [
    "squares={i:i**2 for i in range(0,10)}\n",
    "print(squares)"
   ]
  },
  {
   "cell_type": "code",
   "execution_count": 27,
   "metadata": {},
   "outputs": [
    {
     "data": {
      "text/plain": [
       "True"
      ]
     },
     "execution_count": 27,
     "metadata": {},
     "output_type": "execute_result"
    }
   ],
   "source": [
    "a=[1,2,3]\n",
    "b=a\n",
    "b is a"
   ]
  },
  {
   "cell_type": "code",
   "execution_count": 28,
   "metadata": {},
   "outputs": [
    {
     "data": {
      "text/plain": [
       "[1, 2, 3]"
      ]
     },
     "execution_count": 28,
     "metadata": {},
     "output_type": "execute_result"
    }
   ],
   "source": [
    "a= None\n",
    "b"
   ]
  },
  {
   "cell_type": "code",
   "execution_count": 30,
   "metadata": {},
   "outputs": [
    {
     "data": {
      "text/plain": [
       "[1, 2, 3]"
      ]
     },
     "execution_count": 30,
     "metadata": {},
     "output_type": "execute_result"
    }
   ],
   "source": [
    "a=[1,2,3]\n",
    "b=a\n",
    "del a\n",
    "b"
   ]
  },
  {
   "cell_type": "code",
   "execution_count": 32,
   "metadata": {},
   "outputs": [
    {
     "name": "stdout",
     "output_type": "stream",
     "text": [
      "hello,world\n"
     ]
    }
   ],
   "source": [
    "exec('print (\"hello,world\")')\n"
   ]
  },
  {
   "cell_type": "code",
   "execution_count": 35,
   "metadata": {},
   "outputs": [],
   "source": [
    "scope={}\n",
    "exec('y=1',scope)"
   ]
  },
  {
   "cell_type": "code",
   "execution_count": 37,
   "metadata": {},
   "outputs": [
    {
     "data": {
      "text/plain": [
       "9"
      ]
     },
     "execution_count": 37,
     "metadata": {},
     "output_type": "execute_result"
    }
   ],
   "source": [
    "y"
   ]
  },
  {
   "cell_type": "code",
   "execution_count": 38,
   "metadata": {},
   "outputs": [
    {
     "name": "stdout",
     "output_type": "stream",
     "text": [
      "Variable      Type    Data/Info\n",
      "-------------------------------\n",
      "age           int     48\n",
      "ages          list    n=4\n",
      "b             list    n=3\n",
      "boys          list    n=3\n",
      "coordinates   list    n=100\n",
      "girls         list    n=4\n",
      "i             int     3\n",
      "item          int     9\n",
      "name          str     d\n",
      "names         list    n=4\n",
      "result        list    n=3\n",
      "scope         dict    n=2\n",
      "squares       dict    n=10\n",
      "x             int     9\n",
      "y             int     9\n"
     ]
    }
   ],
   "source": [
    "%whos"
   ]
  },
  {
   "cell_type": "code",
   "execution_count": 39,
   "metadata": {},
   "outputs": [
    {
     "data": {
      "text/plain": [
       "1"
      ]
     },
     "execution_count": 39,
     "metadata": {},
     "output_type": "execute_result"
    }
   ],
   "source": [
    "scope['y']"
   ]
  },
  {
   "cell_type": "code",
   "execution_count": 40,
   "metadata": {},
   "outputs": [
    {
     "name": "stdout",
     "output_type": "stream",
     "text": [
      "{'__builtins__': {'__name__': 'builtins', '__doc__': \"Built-in functions, exceptions, and other objects.\\n\\nNoteworthy: None is the `nil' object; Ellipsis represents `...' in slices.\", '__package__': '', '__loader__': <class '_frozen_importlib.BuiltinImporter'>, '__spec__': ModuleSpec(name='builtins', loader=<class '_frozen_importlib.BuiltinImporter'>), '__build_class__': <built-in function __build_class__>, '__import__': <built-in function __import__>, 'abs': <built-in function abs>, 'all': <built-in function all>, 'any': <built-in function any>, 'ascii': <built-in function ascii>, 'bin': <built-in function bin>, 'breakpoint': <built-in function breakpoint>, 'callable': <built-in function callable>, 'chr': <built-in function chr>, 'compile': <built-in function compile>, 'delattr': <built-in function delattr>, 'dir': <built-in function dir>, 'divmod': <built-in function divmod>, 'eval': <built-in function eval>, 'exec': <built-in function exec>, 'format': <built-in function format>, 'getattr': <built-in function getattr>, 'globals': <built-in function globals>, 'hasattr': <built-in function hasattr>, 'hash': <built-in function hash>, 'hex': <built-in function hex>, 'id': <built-in function id>, 'input': <bound method Kernel.raw_input of <ipykernel.ipkernel.IPythonKernel object at 0x02F95AB0>>, 'isinstance': <built-in function isinstance>, 'issubclass': <built-in function issubclass>, 'iter': <built-in function iter>, 'len': <built-in function len>, 'locals': <built-in function locals>, 'max': <built-in function max>, 'min': <built-in function min>, 'next': <built-in function next>, 'oct': <built-in function oct>, 'ord': <built-in function ord>, 'pow': <built-in function pow>, 'print': <built-in function print>, 'repr': <built-in function repr>, 'round': <built-in function round>, 'setattr': <built-in function setattr>, 'sorted': <built-in function sorted>, 'sum': <built-in function sum>, 'vars': <built-in function vars>, 'None': None, 'Ellipsis': Ellipsis, 'NotImplemented': NotImplemented, 'False': False, 'True': True, 'bool': <class 'bool'>, 'memoryview': <class 'memoryview'>, 'bytearray': <class 'bytearray'>, 'bytes': <class 'bytes'>, 'classmethod': <class 'classmethod'>, 'complex': <class 'complex'>, 'dict': <class 'dict'>, 'enumerate': <class 'enumerate'>, 'filter': <class 'filter'>, 'float': <class 'float'>, 'frozenset': <class 'frozenset'>, 'property': <class 'property'>, 'int': <class 'int'>, 'list': <class 'list'>, 'map': <class 'map'>, 'object': <class 'object'>, 'range': <class 'range'>, 'reversed': <class 'reversed'>, 'set': <class 'set'>, 'slice': <class 'slice'>, 'staticmethod': <class 'staticmethod'>, 'str': <class 'str'>, 'super': <class 'super'>, 'tuple': <class 'tuple'>, 'type': <class 'type'>, 'zip': <class 'zip'>, '__debug__': True, 'BaseException': <class 'BaseException'>, 'Exception': <class 'Exception'>, 'TypeError': <class 'TypeError'>, 'StopAsyncIteration': <class 'StopAsyncIteration'>, 'StopIteration': <class 'StopIteration'>, 'GeneratorExit': <class 'GeneratorExit'>, 'SystemExit': <class 'SystemExit'>, 'KeyboardInterrupt': <class 'KeyboardInterrupt'>, 'ImportError': <class 'ImportError'>, 'ModuleNotFoundError': <class 'ModuleNotFoundError'>, 'OSError': <class 'OSError'>, 'EnvironmentError': <class 'OSError'>, 'IOError': <class 'OSError'>, 'WindowsError': <class 'OSError'>, 'EOFError': <class 'EOFError'>, 'RuntimeError': <class 'RuntimeError'>, 'RecursionError': <class 'RecursionError'>, 'NotImplementedError': <class 'NotImplementedError'>, 'NameError': <class 'NameError'>, 'UnboundLocalError': <class 'UnboundLocalError'>, 'AttributeError': <class 'AttributeError'>, 'SyntaxError': <class 'SyntaxError'>, 'IndentationError': <class 'IndentationError'>, 'TabError': <class 'TabError'>, 'LookupError': <class 'LookupError'>, 'IndexError': <class 'IndexError'>, 'KeyError': <class 'KeyError'>, 'ValueError': <class 'ValueError'>, 'UnicodeError': <class 'UnicodeError'>, 'UnicodeEncodeError': <class 'UnicodeEncodeError'>, 'UnicodeDecodeError': <class 'UnicodeDecodeError'>, 'UnicodeTranslateError': <class 'UnicodeTranslateError'>, 'AssertionError': <class 'AssertionError'>, 'ArithmeticError': <class 'ArithmeticError'>, 'FloatingPointError': <class 'FloatingPointError'>, 'OverflowError': <class 'OverflowError'>, 'ZeroDivisionError': <class 'ZeroDivisionError'>, 'SystemError': <class 'SystemError'>, 'ReferenceError': <class 'ReferenceError'>, 'MemoryError': <class 'MemoryError'>, 'BufferError': <class 'BufferError'>, 'Warning': <class 'Warning'>, 'UserWarning': <class 'UserWarning'>, 'DeprecationWarning': <class 'DeprecationWarning'>, 'PendingDeprecationWarning': <class 'PendingDeprecationWarning'>, 'SyntaxWarning': <class 'SyntaxWarning'>, 'RuntimeWarning': <class 'RuntimeWarning'>, 'FutureWarning': <class 'FutureWarning'>, 'ImportWarning': <class 'ImportWarning'>, 'UnicodeWarning': <class 'UnicodeWarning'>, 'BytesWarning': <class 'BytesWarning'>, 'ResourceWarning': <class 'ResourceWarning'>, 'ConnectionError': <class 'ConnectionError'>, 'BlockingIOError': <class 'BlockingIOError'>, 'BrokenPipeError': <class 'BrokenPipeError'>, 'ChildProcessError': <class 'ChildProcessError'>, 'ConnectionAbortedError': <class 'ConnectionAbortedError'>, 'ConnectionRefusedError': <class 'ConnectionRefusedError'>, 'ConnectionResetError': <class 'ConnectionResetError'>, 'FileExistsError': <class 'FileExistsError'>, 'FileNotFoundError': <class 'FileNotFoundError'>, 'IsADirectoryError': <class 'IsADirectoryError'>, 'NotADirectoryError': <class 'NotADirectoryError'>, 'InterruptedError': <class 'InterruptedError'>, 'PermissionError': <class 'PermissionError'>, 'ProcessLookupError': <class 'ProcessLookupError'>, 'TimeoutError': <class 'TimeoutError'>, 'open': <built-in function open>, 'copyright': Copyright (c) 2001-2019 Python Software Foundation.\n",
      "All Rights Reserved.\n",
      "\n",
      "Copyright (c) 2000 BeOpen.com.\n",
      "All Rights Reserved.\n",
      "\n",
      "Copyright (c) 1995-2001 Corporation for National Research Initiatives.\n",
      "All Rights Reserved.\n",
      "\n",
      "Copyright (c) 1991-1995 Stichting Mathematisch Centrum, Amsterdam.\n",
      "All Rights Reserved., 'credits':     Thanks to CWI, CNRI, BeOpen.com, Zope Corporation and a cast of thousands\n",
      "    for supporting Python development.  See www.python.org for more information., 'license': Type license() to see the full license text, 'help': Type help() for interactive help, or help(object) for help about object., '__IPYTHON__': True, 'display': <function display at 0x01E18C90>, 'get_ipython': <bound method InteractiveShell.get_ipython of <ipykernel.zmqshell.ZMQInteractiveShell object at 0x02F958D0>>}, 'y': 1}\n"
     ]
    }
   ],
   "source": [
    "print(scope)"
   ]
  },
  {
   "cell_type": "code",
   "execution_count": 41,
   "metadata": {},
   "outputs": [
    {
     "data": {
      "text/plain": [
       "{'__name__': '__main__',\n",
       " '__doc__': 'Automatically created module for IPython interactive environment',\n",
       " '__package__': None,\n",
       " '__loader__': None,\n",
       " '__spec__': None,\n",
       " '__builtin__': <module 'builtins' (built-in)>,\n",
       " '__builtins__': <module 'builtins' (built-in)>,\n",
       " '_ih': ['',\n",
       "  \"names=('a','b','c','d')\\nages=[18,28,38,48]\\nfor i in range(len(name)):\\n    print(names[i],ages[i])\",\n",
       "  \"names=('a','b','c','d')\\nages=[18,28,38,48]\\nfor i in range(len(name));\\n    print(names[i],ages[i])\",\n",
       "  \"names=('a','b','c','d')\\nages=[18,28,38,48]\\nfor i in range(len(names));\\n    print(names[i],ages[i])\",\n",
       "  \"names=['a','b','c','d']\\nages=[18,28,38,48]\\nfor i in range(len(names));\\n    print(names[i],ages[i])\",\n",
       "  \"names=('a','b','c','d')\\nages=[18,28,38,48]\\nfor i in range(len(names));\\n    print(names[i],ages[i])\",\n",
       "  \"names=['a','b','c','d']\\nages=[18,28,38,48]\\nfor name,age in zip(names,ages):\\n    print(names,ages)\",\n",
       "  \"names=['a','b','c','d']\\nages=[18,28,38,48]\\nfor name,age in zip(names,ages):\\n    print(name,age)\",\n",
       "  'a=list(zip(names,ages))',\n",
       "  'a=list(zip(names,ages))\\na',\n",
       "  \"names=['a','b','c','d']\\n\\ni=1\\nfor name in names:\\n    print(i,name)\\n    i+=1\",\n",
       "  \"names=['a','b','c','d']\\nages=[18,28,38,48]\\nfor i in range(len(names));\\n    print(names[i],ages[i])\",\n",
       "  'a=list(enumerate(names))\\na',\n",
       "  'a=list(range(0,10))\\nb=list()\\nfor item in a:\\n    b.append(item*item)\\n    \\nprint(a)\\nprint(b)',\n",
       "  'b=[item*item for item in range(0,10)]\\nb',\n",
       "  \"names=['a','b','c','d']\\nages=[18,28,38,48]\\nfor i in range(len(names)):\\n    print(names[i],ages[i])\",\n",
       "  'a=[item for in range(0,100) if item % 3==0]\\nprint(a)',\n",
       "  'a=[item*2 for in range(0,100) if item%3==0]\\nprint(a)',\n",
       "  'a=[item*2 for item in range(0,100) if item%3==0]\\nprint(a)',\n",
       "  'coordinates=[]\\nfor x in range(0,10):\\n    for y in range(1,10):\\n          coordinates.append((x,y))  \\n\\nprint(coordinates)',\n",
       "  'coordinates=[(x,y) for x in range(0,10) for y in range(0,10)]\\nprint(coordinates)',\n",
       "  \"girls=['Jane','Sandora','Mary']\\nboys=['Mark','Job','Soda']\\nresult=[boy+'+'+girl for boy in boys for girl in girls if boy[0]=girl[0]]\\nprint(result)\",\n",
       "  \"girls=['Jane','Sandora','Mary','Betty']\\nboys=['Mark','Job','Soda']\\nresult=[boy+'+'+girl for boy in boys for girl in girls if boy[0]=girl[0]]\\nprint(result)\",\n",
       "  \"girls=['Jane','Sandora','Mary','Betty']\\nboys=['Mark','Job','Soda']\\nresult=[boy +'+'+ girl for boy in boys for girl in girls if boy[0]=girl[0]]\\nprint(result)\",\n",
       "  'squares={i:i**2 for i in range(0,10)}\\nprint(squares)',\n",
       "  \"girls=['jane','sandora','mary','betty']\\nboys=['mark','job','soda']\\nresult=[boy+'+'+girl for boy in boys for girl in girls if boy[0]=girl[0]]\\nprint(result)\",\n",
       "  \"girls=['jane','sandora','mary','betty']\\nboys=['mark','job','soda']\\nresult=[boy+'+'+girl for boy in boys for girl in girls if boy[0]==girl[0]]\\nprint(result)\",\n",
       "  'a=[1,2,3]\\nb=a\\nb is a',\n",
       "  'a= None\\nb',\n",
       "  'b=None',\n",
       "  'a=[1,2,3]\\nb=a\\ndel a\\nb',\n",
       "  \"exec('print ('hello,world')')\",\n",
       "  'exec(\\'print (\"hello,world\")\\')',\n",
       "  \"scope={}\\nexec('y=1',scope)\",\n",
       "  \"scope={}\\nexec('y=1',scope)\",\n",
       "  \"scope={}\\nexec('y=1',scope)\",\n",
       "  \"scope={}\\nexec('y=1',scope)\",\n",
       "  'y',\n",
       "  \"get_ipython().run_line_magic('whos', '')\",\n",
       "  \"scope['y']\",\n",
       "  'print(scope)',\n",
       "  'vars()'],\n",
       " '_oh': {9: [('a', 18), ('b', 28), ('c', 38), ('d', 48)],\n",
       "  12: [(0, 'a'), (1, 'b'), (2, 'c'), (3, 'd')],\n",
       "  14: [0, 1, 4, 9, 16, 25, 36, 49, 64, 81],\n",
       "  27: True,\n",
       "  28: [1, 2, 3],\n",
       "  30: [1, 2, 3],\n",
       "  37: 9,\n",
       "  39: 1},\n",
       " '_dh': ['C:\\\\Users\\\\Administrator'],\n",
       " 'In': ['',\n",
       "  \"names=('a','b','c','d')\\nages=[18,28,38,48]\\nfor i in range(len(name)):\\n    print(names[i],ages[i])\",\n",
       "  \"names=('a','b','c','d')\\nages=[18,28,38,48]\\nfor i in range(len(name));\\n    print(names[i],ages[i])\",\n",
       "  \"names=('a','b','c','d')\\nages=[18,28,38,48]\\nfor i in range(len(names));\\n    print(names[i],ages[i])\",\n",
       "  \"names=['a','b','c','d']\\nages=[18,28,38,48]\\nfor i in range(len(names));\\n    print(names[i],ages[i])\",\n",
       "  \"names=('a','b','c','d')\\nages=[18,28,38,48]\\nfor i in range(len(names));\\n    print(names[i],ages[i])\",\n",
       "  \"names=['a','b','c','d']\\nages=[18,28,38,48]\\nfor name,age in zip(names,ages):\\n    print(names,ages)\",\n",
       "  \"names=['a','b','c','d']\\nages=[18,28,38,48]\\nfor name,age in zip(names,ages):\\n    print(name,age)\",\n",
       "  'a=list(zip(names,ages))',\n",
       "  'a=list(zip(names,ages))\\na',\n",
       "  \"names=['a','b','c','d']\\n\\ni=1\\nfor name in names:\\n    print(i,name)\\n    i+=1\",\n",
       "  \"names=['a','b','c','d']\\nages=[18,28,38,48]\\nfor i in range(len(names));\\n    print(names[i],ages[i])\",\n",
       "  'a=list(enumerate(names))\\na',\n",
       "  'a=list(range(0,10))\\nb=list()\\nfor item in a:\\n    b.append(item*item)\\n    \\nprint(a)\\nprint(b)',\n",
       "  'b=[item*item for item in range(0,10)]\\nb',\n",
       "  \"names=['a','b','c','d']\\nages=[18,28,38,48]\\nfor i in range(len(names)):\\n    print(names[i],ages[i])\",\n",
       "  'a=[item for in range(0,100) if item % 3==0]\\nprint(a)',\n",
       "  'a=[item*2 for in range(0,100) if item%3==0]\\nprint(a)',\n",
       "  'a=[item*2 for item in range(0,100) if item%3==0]\\nprint(a)',\n",
       "  'coordinates=[]\\nfor x in range(0,10):\\n    for y in range(1,10):\\n          coordinates.append((x,y))  \\n\\nprint(coordinates)',\n",
       "  'coordinates=[(x,y) for x in range(0,10) for y in range(0,10)]\\nprint(coordinates)',\n",
       "  \"girls=['Jane','Sandora','Mary']\\nboys=['Mark','Job','Soda']\\nresult=[boy+'+'+girl for boy in boys for girl in girls if boy[0]=girl[0]]\\nprint(result)\",\n",
       "  \"girls=['Jane','Sandora','Mary','Betty']\\nboys=['Mark','Job','Soda']\\nresult=[boy+'+'+girl for boy in boys for girl in girls if boy[0]=girl[0]]\\nprint(result)\",\n",
       "  \"girls=['Jane','Sandora','Mary','Betty']\\nboys=['Mark','Job','Soda']\\nresult=[boy +'+'+ girl for boy in boys for girl in girls if boy[0]=girl[0]]\\nprint(result)\",\n",
       "  'squares={i:i**2 for i in range(0,10)}\\nprint(squares)',\n",
       "  \"girls=['jane','sandora','mary','betty']\\nboys=['mark','job','soda']\\nresult=[boy+'+'+girl for boy in boys for girl in girls if boy[0]=girl[0]]\\nprint(result)\",\n",
       "  \"girls=['jane','sandora','mary','betty']\\nboys=['mark','job','soda']\\nresult=[boy+'+'+girl for boy in boys for girl in girls if boy[0]==girl[0]]\\nprint(result)\",\n",
       "  'a=[1,2,3]\\nb=a\\nb is a',\n",
       "  'a= None\\nb',\n",
       "  'b=None',\n",
       "  'a=[1,2,3]\\nb=a\\ndel a\\nb',\n",
       "  \"exec('print ('hello,world')')\",\n",
       "  'exec(\\'print (\"hello,world\")\\')',\n",
       "  \"scope={}\\nexec('y=1',scope)\",\n",
       "  \"scope={}\\nexec('y=1',scope)\",\n",
       "  \"scope={}\\nexec('y=1',scope)\",\n",
       "  \"scope={}\\nexec('y=1',scope)\",\n",
       "  'y',\n",
       "  \"get_ipython().run_line_magic('whos', '')\",\n",
       "  \"scope['y']\",\n",
       "  'print(scope)',\n",
       "  'vars()'],\n",
       " 'Out': {9: [('a', 18), ('b', 28), ('c', 38), ('d', 48)],\n",
       "  12: [(0, 'a'), (1, 'b'), (2, 'c'), (3, 'd')],\n",
       "  14: [0, 1, 4, 9, 16, 25, 36, 49, 64, 81],\n",
       "  27: True,\n",
       "  28: [1, 2, 3],\n",
       "  30: [1, 2, 3],\n",
       "  37: 9,\n",
       "  39: 1},\n",
       " 'get_ipython': <bound method InteractiveShell.get_ipython of <ipykernel.zmqshell.ZMQInteractiveShell object at 0x02F958D0>>,\n",
       " 'exit': <IPython.core.autocall.ZMQExitAutocall at 0x3207ef0>,\n",
       " 'quit': <IPython.core.autocall.ZMQExitAutocall at 0x3207ef0>,\n",
       " '_': 1,\n",
       " '__': 9,\n",
       " '___': [1, 2, 3],\n",
       " '_i': 'print(scope)',\n",
       " '_ii': \"scope['y']\",\n",
       " '_iii': '%whos',\n",
       " '_i1': \"names=('a','b','c','d')\\nages=[18,28,38,48]\\nfor i in range(len(name)):\\n    print(names[i],ages[i])\",\n",
       " 'names': ['a', 'b', 'c', 'd'],\n",
       " 'ages': [18, 28, 38, 48],\n",
       " '_i2': \"names=('a','b','c','d')\\nages=[18,28,38,48]\\nfor i in range(len(name));\\n    print(names[i],ages[i])\",\n",
       " '_i3': \"names=('a','b','c','d')\\nages=[18,28,38,48]\\nfor i in range(len(names));\\n    print(names[i],ages[i])\",\n",
       " '_i4': \"names=['a','b','c','d']\\nages=[18,28,38,48]\\nfor i in range(len(names));\\n    print(names[i],ages[i])\",\n",
       " '_i5': \"names=('a','b','c','d')\\nages=[18,28,38,48]\\nfor i in range(len(names));\\n    print(names[i],ages[i])\",\n",
       " '_i6': \"names=['a','b','c','d']\\nages=[18,28,38,48]\\nfor name,age in zip(names,ages):\\n    print(names,ages)\",\n",
       " 'name': 'd',\n",
       " 'age': 48,\n",
       " '_i7': \"names=['a','b','c','d']\\nages=[18,28,38,48]\\nfor name,age in zip(names,ages):\\n    print(name,age)\",\n",
       " '_i8': 'a=list(zip(names,ages))',\n",
       " '_i9': 'a=list(zip(names,ages))\\na',\n",
       " '_9': [('a', 18), ('b', 28), ('c', 38), ('d', 48)],\n",
       " '_i10': \"names=['a','b','c','d']\\n\\ni=1\\nfor name in names:\\n    print(i,name)\\n    i+=1\",\n",
       " 'i': 3,\n",
       " '_i11': \"names=['a','b','c','d']\\nages=[18,28,38,48]\\nfor i in range(len(names));\\n    print(names[i],ages[i])\",\n",
       " '_i12': 'a=list(enumerate(names))\\na',\n",
       " '_12': [(0, 'a'), (1, 'b'), (2, 'c'), (3, 'd')],\n",
       " '_i13': 'a=list(range(0,10))\\nb=list()\\nfor item in a:\\n    b.append(item*item)\\n    \\nprint(a)\\nprint(b)',\n",
       " 'b': [1, 2, 3],\n",
       " 'item': 9,\n",
       " '_i14': 'b=[item*item for item in range(0,10)]\\nb',\n",
       " '_14': [0, 1, 4, 9, 16, 25, 36, 49, 64, 81],\n",
       " '_i15': \"names=['a','b','c','d']\\nages=[18,28,38,48]\\nfor i in range(len(names)):\\n    print(names[i],ages[i])\",\n",
       " '_i16': 'a=[item for in range(0,100) if item % 3==0]\\nprint(a)',\n",
       " '_i17': 'a=[item*2 for in range(0,100) if item%3==0]\\nprint(a)',\n",
       " '_i18': 'a=[item*2 for item in range(0,100) if item%3==0]\\nprint(a)',\n",
       " '_i19': 'coordinates=[]\\nfor x in range(0,10):\\n    for y in range(1,10):\\n          coordinates.append((x,y))  \\n\\nprint(coordinates)',\n",
       " 'coordinates': [(0, 0),\n",
       "  (0, 1),\n",
       "  (0, 2),\n",
       "  (0, 3),\n",
       "  (0, 4),\n",
       "  (0, 5),\n",
       "  (0, 6),\n",
       "  (0, 7),\n",
       "  (0, 8),\n",
       "  (0, 9),\n",
       "  (1, 0),\n",
       "  (1, 1),\n",
       "  (1, 2),\n",
       "  (1, 3),\n",
       "  (1, 4),\n",
       "  (1, 5),\n",
       "  (1, 6),\n",
       "  (1, 7),\n",
       "  (1, 8),\n",
       "  (1, 9),\n",
       "  (2, 0),\n",
       "  (2, 1),\n",
       "  (2, 2),\n",
       "  (2, 3),\n",
       "  (2, 4),\n",
       "  (2, 5),\n",
       "  (2, 6),\n",
       "  (2, 7),\n",
       "  (2, 8),\n",
       "  (2, 9),\n",
       "  (3, 0),\n",
       "  (3, 1),\n",
       "  (3, 2),\n",
       "  (3, 3),\n",
       "  (3, 4),\n",
       "  (3, 5),\n",
       "  (3, 6),\n",
       "  (3, 7),\n",
       "  (3, 8),\n",
       "  (3, 9),\n",
       "  (4, 0),\n",
       "  (4, 1),\n",
       "  (4, 2),\n",
       "  (4, 3),\n",
       "  (4, 4),\n",
       "  (4, 5),\n",
       "  (4, 6),\n",
       "  (4, 7),\n",
       "  (4, 8),\n",
       "  (4, 9),\n",
       "  (5, 0),\n",
       "  (5, 1),\n",
       "  (5, 2),\n",
       "  (5, 3),\n",
       "  (5, 4),\n",
       "  (5, 5),\n",
       "  (5, 6),\n",
       "  (5, 7),\n",
       "  (5, 8),\n",
       "  (5, 9),\n",
       "  (6, 0),\n",
       "  (6, 1),\n",
       "  (6, 2),\n",
       "  (6, 3),\n",
       "  (6, 4),\n",
       "  (6, 5),\n",
       "  (6, 6),\n",
       "  (6, 7),\n",
       "  (6, 8),\n",
       "  (6, 9),\n",
       "  (7, 0),\n",
       "  (7, 1),\n",
       "  (7, 2),\n",
       "  (7, 3),\n",
       "  (7, 4),\n",
       "  (7, 5),\n",
       "  (7, 6),\n",
       "  (7, 7),\n",
       "  (7, 8),\n",
       "  (7, 9),\n",
       "  (8, 0),\n",
       "  (8, 1),\n",
       "  (8, 2),\n",
       "  (8, 3),\n",
       "  (8, 4),\n",
       "  (8, 5),\n",
       "  (8, 6),\n",
       "  (8, 7),\n",
       "  (8, 8),\n",
       "  (8, 9),\n",
       "  (9, 0),\n",
       "  (9, 1),\n",
       "  (9, 2),\n",
       "  (9, 3),\n",
       "  (9, 4),\n",
       "  (9, 5),\n",
       "  (9, 6),\n",
       "  (9, 7),\n",
       "  (9, 8),\n",
       "  (9, 9)],\n",
       " 'x': 9,\n",
       " 'y': 9,\n",
       " '_i20': 'coordinates=[(x,y) for x in range(0,10) for y in range(0,10)]\\nprint(coordinates)',\n",
       " '_i21': \"girls=['Jane','Sandora','Mary']\\nboys=['Mark','Job','Soda']\\nresult=[boy+'+'+girl for boy in boys for girl in girls if boy[0]=girl[0]]\\nprint(result)\",\n",
       " '_i22': \"girls=['Jane','Sandora','Mary','Betty']\\nboys=['Mark','Job','Soda']\\nresult=[boy+'+'+girl for boy in boys for girl in girls if boy[0]=girl[0]]\\nprint(result)\",\n",
       " '_i23': \"girls=['Jane','Sandora','Mary','Betty']\\nboys=['Mark','Job','Soda']\\nresult=[boy +'+'+ girl for boy in boys for girl in girls if boy[0]=girl[0]]\\nprint(result)\",\n",
       " '_i24': 'squares={i:i**2 for i in range(0,10)}\\nprint(squares)',\n",
       " 'squares': {0: 0, 1: 1, 2: 4, 3: 9, 4: 16, 5: 25, 6: 36, 7: 49, 8: 64, 9: 81},\n",
       " '_i25': \"girls=['jane','sandora','mary','betty']\\nboys=['mark','job','soda']\\nresult=[boy+'+'+girl for boy in boys for girl in girls if boy[0]=girl[0]]\\nprint(result)\",\n",
       " '_i26': \"girls=['jane','sandora','mary','betty']\\nboys=['mark','job','soda']\\nresult=[boy+'+'+girl for boy in boys for girl in girls if boy[0]==girl[0]]\\nprint(result)\",\n",
       " 'girls': ['jane', 'sandora', 'mary', 'betty'],\n",
       " 'boys': ['mark', 'job', 'soda'],\n",
       " 'result': ['mark+mary', 'job+jane', 'soda+sandora'],\n",
       " '_i27': 'a=[1,2,3]\\nb=a\\nb is a',\n",
       " '_27': True,\n",
       " '_i28': 'a= None\\nb',\n",
       " '_28': [1, 2, 3],\n",
       " '_i29': 'b=None',\n",
       " '_i30': 'a=[1,2,3]\\nb=a\\ndel a\\nb',\n",
       " '_30': [1, 2, 3],\n",
       " '_i31': \"exec('print ('hello,world')')\",\n",
       " '_i32': 'exec(\\'print (\"hello,world\")\\')',\n",
       " '_i33': \"scope={}\\nexec('y=1',scope)\",\n",
       " 'scope': {'__builtins__': {'__name__': 'builtins',\n",
       "   '__doc__': \"Built-in functions, exceptions, and other objects.\\n\\nNoteworthy: None is the `nil' object; Ellipsis represents `...' in slices.\",\n",
       "   '__package__': '',\n",
       "   '__loader__': _frozen_importlib.BuiltinImporter,\n",
       "   '__spec__': ModuleSpec(name='builtins', loader=<class '_frozen_importlib.BuiltinImporter'>),\n",
       "   '__build_class__': <function __build_class__>,\n",
       "   '__import__': <function __import__>,\n",
       "   'abs': <function abs(x, /)>,\n",
       "   'all': <function all(iterable, /)>,\n",
       "   'any': <function any(iterable, /)>,\n",
       "   'ascii': <function ascii(obj, /)>,\n",
       "   'bin': <function bin(number, /)>,\n",
       "   'breakpoint': <function breakpoint>,\n",
       "   'callable': <function callable(obj, /)>,\n",
       "   'chr': <function chr(i, /)>,\n",
       "   'compile': <function compile(source, filename, mode, flags=0, dont_inherit=False, optimize=-1)>,\n",
       "   'delattr': <function delattr(obj, name, /)>,\n",
       "   'dir': <function dir>,\n",
       "   'divmod': <function divmod(x, y, /)>,\n",
       "   'eval': <function eval(source, globals=None, locals=None, /)>,\n",
       "   'exec': <function exec(source, globals=None, locals=None, /)>,\n",
       "   'format': <function format(value, format_spec='', /)>,\n",
       "   'getattr': <function getattr>,\n",
       "   'globals': <function globals()>,\n",
       "   'hasattr': <function hasattr(obj, name, /)>,\n",
       "   'hash': <function hash(obj, /)>,\n",
       "   'hex': <function hex(number, /)>,\n",
       "   'id': <function id(obj, /)>,\n",
       "   'input': <bound method Kernel.raw_input of <ipykernel.ipkernel.IPythonKernel object at 0x02F95AB0>>,\n",
       "   'isinstance': <function isinstance(obj, class_or_tuple, /)>,\n",
       "   'issubclass': <function issubclass(cls, class_or_tuple, /)>,\n",
       "   'iter': <function iter>,\n",
       "   'len': <function len(obj, /)>,\n",
       "   'locals': <function locals()>,\n",
       "   'max': <function max>,\n",
       "   'min': <function min>,\n",
       "   'next': <function next>,\n",
       "   'oct': <function oct(number, /)>,\n",
       "   'ord': <function ord(c, /)>,\n",
       "   'pow': <function pow(x, y, z=None, /)>,\n",
       "   'print': <function print>,\n",
       "   'repr': <function repr(obj, /)>,\n",
       "   'round': <function round(number, ndigits=None)>,\n",
       "   'setattr': <function setattr(obj, name, value, /)>,\n",
       "   'sorted': <function sorted(iterable, /, *, key=None, reverse=False)>,\n",
       "   'sum': <function sum(iterable, start=0, /)>,\n",
       "   'vars': <function vars>,\n",
       "   'None': None,\n",
       "   'Ellipsis': Ellipsis,\n",
       "   'NotImplemented': NotImplemented,\n",
       "   'False': False,\n",
       "   'True': True,\n",
       "   'bool': bool,\n",
       "   'memoryview': memoryview,\n",
       "   'bytearray': bytearray,\n",
       "   'bytes': bytes,\n",
       "   'classmethod': classmethod,\n",
       "   'complex': complex,\n",
       "   'dict': dict,\n",
       "   'enumerate': enumerate,\n",
       "   'filter': filter,\n",
       "   'float': float,\n",
       "   'frozenset': frozenset,\n",
       "   'property': property,\n",
       "   'int': int,\n",
       "   'list': list,\n",
       "   'map': map,\n",
       "   'object': object,\n",
       "   'range': range,\n",
       "   'reversed': reversed,\n",
       "   'set': set,\n",
       "   'slice': slice,\n",
       "   'staticmethod': staticmethod,\n",
       "   'str': str,\n",
       "   'super': super,\n",
       "   'tuple': tuple,\n",
       "   'type': type,\n",
       "   'zip': zip,\n",
       "   '__debug__': True,\n",
       "   'BaseException': BaseException,\n",
       "   'Exception': Exception,\n",
       "   'TypeError': TypeError,\n",
       "   'StopAsyncIteration': StopAsyncIteration,\n",
       "   'StopIteration': StopIteration,\n",
       "   'GeneratorExit': GeneratorExit,\n",
       "   'SystemExit': SystemExit,\n",
       "   'KeyboardInterrupt': KeyboardInterrupt,\n",
       "   'ImportError': ImportError,\n",
       "   'ModuleNotFoundError': ModuleNotFoundError,\n",
       "   'OSError': OSError,\n",
       "   'EnvironmentError': OSError,\n",
       "   'IOError': OSError,\n",
       "   'WindowsError': OSError,\n",
       "   'EOFError': EOFError,\n",
       "   'RuntimeError': RuntimeError,\n",
       "   'RecursionError': RecursionError,\n",
       "   'NotImplementedError': NotImplementedError,\n",
       "   'NameError': NameError,\n",
       "   'UnboundLocalError': UnboundLocalError,\n",
       "   'AttributeError': AttributeError,\n",
       "   'SyntaxError': SyntaxError,\n",
       "   'IndentationError': IndentationError,\n",
       "   'TabError': TabError,\n",
       "   'LookupError': LookupError,\n",
       "   'IndexError': IndexError,\n",
       "   'KeyError': KeyError,\n",
       "   'ValueError': ValueError,\n",
       "   'UnicodeError': UnicodeError,\n",
       "   'UnicodeEncodeError': UnicodeEncodeError,\n",
       "   'UnicodeDecodeError': UnicodeDecodeError,\n",
       "   'UnicodeTranslateError': UnicodeTranslateError,\n",
       "   'AssertionError': AssertionError,\n",
       "   'ArithmeticError': ArithmeticError,\n",
       "   'FloatingPointError': FloatingPointError,\n",
       "   'OverflowError': OverflowError,\n",
       "   'ZeroDivisionError': ZeroDivisionError,\n",
       "   'SystemError': SystemError,\n",
       "   'ReferenceError': ReferenceError,\n",
       "   'MemoryError': MemoryError,\n",
       "   'BufferError': BufferError,\n",
       "   'Warning': Warning,\n",
       "   'UserWarning': UserWarning,\n",
       "   'DeprecationWarning': DeprecationWarning,\n",
       "   'PendingDeprecationWarning': PendingDeprecationWarning,\n",
       "   'SyntaxWarning': SyntaxWarning,\n",
       "   'RuntimeWarning': RuntimeWarning,\n",
       "   'FutureWarning': FutureWarning,\n",
       "   'ImportWarning': ImportWarning,\n",
       "   'UnicodeWarning': UnicodeWarning,\n",
       "   'BytesWarning': BytesWarning,\n",
       "   'ResourceWarning': ResourceWarning,\n",
       "   'ConnectionError': ConnectionError,\n",
       "   'BlockingIOError': BlockingIOError,\n",
       "   'BrokenPipeError': BrokenPipeError,\n",
       "   'ChildProcessError': ChildProcessError,\n",
       "   'ConnectionAbortedError': ConnectionAbortedError,\n",
       "   'ConnectionRefusedError': ConnectionRefusedError,\n",
       "   'ConnectionResetError': ConnectionResetError,\n",
       "   'FileExistsError': FileExistsError,\n",
       "   'FileNotFoundError': FileNotFoundError,\n",
       "   'IsADirectoryError': IsADirectoryError,\n",
       "   'NotADirectoryError': NotADirectoryError,\n",
       "   'InterruptedError': InterruptedError,\n",
       "   'PermissionError': PermissionError,\n",
       "   'ProcessLookupError': ProcessLookupError,\n",
       "   'TimeoutError': TimeoutError,\n",
       "   'open': <function io.open(file, mode='r', buffering=-1, encoding=None, errors=None, newline=None, closefd=True, opener=None)>,\n",
       "   'copyright': Copyright (c) 2001-2019 Python Software Foundation.\n",
       "   All Rights Reserved.\n",
       "   \n",
       "   Copyright (c) 2000 BeOpen.com.\n",
       "   All Rights Reserved.\n",
       "   \n",
       "   Copyright (c) 1995-2001 Corporation for National Research Initiatives.\n",
       "   All Rights Reserved.\n",
       "   \n",
       "   Copyright (c) 1991-1995 Stichting Mathematisch Centrum, Amsterdam.\n",
       "   All Rights Reserved.,\n",
       "   'credits':     Thanks to CWI, CNRI, BeOpen.com, Zope Corporation and a cast of thousands\n",
       "       for supporting Python development.  See www.python.org for more information.,\n",
       "   'license': Type license() to see the full license text,\n",
       "   'help': Type help() for interactive help, or help(object) for help about object.,\n",
       "   '__IPYTHON__': True,\n",
       "   'display': <function IPython.core.display.display(*objs, include=None, exclude=None, metadata=None, transient=None, display_id=None, **kwargs)>,\n",
       "   'get_ipython': <bound method InteractiveShell.get_ipython of <ipykernel.zmqshell.ZMQInteractiveShell object at 0x02F958D0>>},\n",
       "  'y': 1},\n",
       " '_i34': \"scope={}\\nexec('y=1',scope)\",\n",
       " '_i35': \"scope={}\\nexec('y=1',scope)\",\n",
       " '_i36': \"scope={}\\nexec('y=1',scope)\",\n",
       " '_i37': 'y',\n",
       " '_37': 9,\n",
       " '_i38': '%whos',\n",
       " '_i39': \"scope['y']\",\n",
       " '_39': 1,\n",
       " '_i40': 'print(scope)',\n",
       " '_i41': 'vars()'}"
      ]
     },
     "execution_count": 41,
     "metadata": {},
     "output_type": "execute_result"
    }
   ],
   "source": [
    "vars()"
   ]
  },
  {
   "cell_type": "code",
   "execution_count": 42,
   "metadata": {},
   "outputs": [
    {
     "data": {
      "text/plain": [
       "6"
      ]
     },
     "execution_count": 42,
     "metadata": {},
     "output_type": "execute_result"
    }
   ],
   "source": [
    "eval('1+2+3')"
   ]
  },
  {
   "cell_type": "code",
   "execution_count": 44,
   "metadata": {},
   "outputs": [
    {
     "name": "stdout",
     "output_type": "stream",
     "text": [
      "please input an expression:1\n",
      "1\n"
     ]
    }
   ],
   "source": [
    "expr=input('please input an expression:')\n",
    "print(eval(expr))"
   ]
  },
  {
   "cell_type": "code",
   "execution_count": 47,
   "metadata": {},
   "outputs": [],
   "source": [
    "def hello(name):\n",
    "    print('Hello,'+name+'1')"
   ]
  },
  {
   "cell_type": "code",
   "execution_count": 48,
   "metadata": {},
   "outputs": [
    {
     "data": {
      "text/plain": [
       "<function __main__.hello(name)>"
      ]
     },
     "execution_count": 48,
     "metadata": {},
     "output_type": "execute_result"
    }
   ],
   "source": [
    "hello"
   ]
  },
  {
   "cell_type": "code",
   "execution_count": 49,
   "metadata": {},
   "outputs": [],
   "source": [
    "hello?"
   ]
  },
  {
   "cell_type": "code",
   "execution_count": 50,
   "metadata": {},
   "outputs": [
    {
     "data": {
      "text/plain": [
       "True"
      ]
     },
     "execution_count": 50,
     "metadata": {},
     "output_type": "execute_result"
    }
   ],
   "source": [
    "callable(hello)"
   ]
  },
  {
   "cell_type": "code",
   "execution_count": 51,
   "metadata": {},
   "outputs": [],
   "source": [
    "def hello(name):\n",
    "    'Say to somebody whose name is defined by name.'\n",
    "    print('Hello,'+name+'1')"
   ]
  },
  {
   "cell_type": "code",
   "execution_count": 52,
   "metadata": {},
   "outputs": [
    {
     "name": "stdout",
     "output_type": "stream",
     "text": [
      "Hello,GM1\n",
      "None\n"
     ]
    }
   ],
   "source": [
    "print(hello('GM'))"
   ]
  },
  {
   "cell_type": "code",
   "execution_count": 53,
   "metadata": {},
   "outputs": [
    {
     "name": "stdout",
     "output_type": "stream",
     "text": [
      "****************************************\n",
      "*                hello                 *\n",
      "****************************************\n"
     ]
    }
   ],
   "source": [
    "def print_banner(text):\n",
    "    print('*'*40)\n",
    "    print(text.center(38).center(40,'*'))\n",
    "    print('*'*40)\n",
    "    \n",
    "print_banner('hello')"
   ]
  },
  {
   "cell_type": "code",
   "execution_count": 55,
   "metadata": {},
   "outputs": [
    {
     "name": "stdout",
     "output_type": "stream",
     "text": [
      "******************************\n",
      "******           hello            ******\n",
      "******************************\n"
     ]
    }
   ],
   "source": [
    "def print_banner(text,width):\n",
    "    print('*'*width)\n",
    "    print(text.center(width-2).center(40,'*'))\n",
    "    print('*'*width)\n",
    "    \n",
    "print_banner('hello',30)"
   ]
  },
  {
   "cell_type": "code",
   "execution_count": 56,
   "metadata": {},
   "outputs": [
    {
     "name": "stdout",
     "output_type": "stream",
     "text": [
      "##############################\n",
      "******           hello            ******\n",
      "##############################\n"
     ]
    }
   ],
   "source": [
    "def print_banner(text,width):\n",
    "    symbol='#'\n",
    "    print(symbol*width)\n",
    "    print(text.center(width-2).center(40,'*'))\n",
    "    print(symbol*width)\n",
    "    \n",
    "print_banner('hello',30)"
   ]
  },
  {
   "cell_type": "code",
   "execution_count": 58,
   "metadata": {},
   "outputs": [
    {
     "name": "stdout",
     "output_type": "stream",
     "text": [
      "[1, 1, 2, 3, 5, 8, 13, 21, 34, 55, 89]\n"
     ]
    }
   ],
   "source": [
    "fibs=[1,1]\n",
    "for i in range(0,9):\n",
    "    fibs.append(fibs[-2]+fibs[-1])#len(fibs)-1\n",
    "print(fibs)"
   ]
  },
  {
   "cell_type": "code",
   "execution_count": 60,
   "metadata": {},
   "outputs": [
    {
     "name": "stdout",
     "output_type": "stream",
     "text": [
      "8\n"
     ]
    }
   ],
   "source": [
    "print(fibs[5])"
   ]
  },
  {
   "cell_type": "code",
   "execution_count": 62,
   "metadata": {},
   "outputs": [
    {
     "name": "stdout",
     "output_type": "stream",
     "text": [
      "how many Fibonacci numbers do you want?24\n",
      "[1, 1, 2, 3, 5, 8, 13, 21, 34, 55, 89, 144, 233, 377, 610, 987, 1597, 2584, 4181, 6765, 10946, 17711, 28657, 46368]\n"
     ]
    }
   ],
   "source": [
    "def fibs(num):\n",
    "    result=[1,1]\n",
    "    for i in range(num-2):\n",
    "        result.append(result[-2]+result[-1])\n",
    "    return result\n",
    "\n",
    "num=int(input('how many Fibonacci numbers do you want?'))\n",
    "print(fibs(num))"
   ]
  },
  {
   "cell_type": "code",
   "execution_count": 65,
   "metadata": {},
   "outputs": [
    {
     "name": "stdout",
     "output_type": "stream",
     "text": [
      "how many steps?6\n",
      "Total number of different ways:8\n"
     ]
    }
   ],
   "source": [
    "def fib(index):\n",
    "    result=[1,1]\n",
    "    for i in range(num-2):\n",
    "        result.append(result[-2]+result[-1])\n",
    "    return result[-1]\n",
    "\n",
    "num=int(input('how many steps?'))\n",
    "print('Total number of different ways:{}'.format(fib(num)))"
   ]
  },
  {
   "cell_type": "code",
   "execution_count": 71,
   "metadata": {},
   "outputs": [
    {
     "name": "stdout",
     "output_type": "stream",
     "text": [
      "how many steps?6\n",
      "Total number of different ways:13\n"
     ]
    }
   ],
   "source": [
    "def fib(index):\n",
    "    item_before_last,last_item=1,1\n",
    "    for i in range(index-2):\n",
    "        item_before_last,last_item=last_item,item_before_last+last_item\n",
    "    return last_item\n",
    "\n",
    "num=int(input('how many steps?'))\n",
    "print('Total number of different ways:{}'.format(fib(num+1)))\n"
   ]
  },
  {
   "cell_type": "code",
   "execution_count": 72,
   "metadata": {},
   "outputs": [
    {
     "name": "stdout",
     "output_type": "stream",
     "text": [
      "2\n"
     ]
    }
   ],
   "source": [
    "def change_it(a):\n",
    "    a=a*2\n",
    "\n",
    "x=2\n",
    "change_it(x)\n",
    "print(x)\n",
    "\n",
    "    "
   ]
  },
  {
   "cell_type": "code",
   "execution_count": 74,
   "metadata": {},
   "outputs": [
    {
     "name": "stdout",
     "output_type": "stream",
     "text": [
      "[['Hello', 'hi'], 'hi']\n"
     ]
    }
   ],
   "source": [
    "def change_it(a):\n",
    "    a[0]=['Hello','hi']\n",
    "x=['hello','hi']\n",
    "change_it(x)\n",
    "print(x)"
   ]
  },
  {
   "cell_type": "code",
   "execution_count": 75,
   "metadata": {},
   "outputs": [
    {
     "name": "stdout",
     "output_type": "stream",
     "text": [
      "['Hello', 'hi']\n"
     ]
    }
   ],
   "source": [
    "def change_it(a):\n",
    "    a[0]='Hello'\n",
    "\n",
    "x=['hello','hi']\n",
    "change_it(x)\n",
    "print(x)"
   ]
  },
  {
   "cell_type": "code",
   "execution_count": 80,
   "metadata": {},
   "outputs": [
    {
     "name": "stdout",
     "output_type": "stream",
     "text": [
      "hello,world\n",
      "hi,world\n",
      "hi,yg\n",
      "hello,yg\n"
     ]
    }
   ],
   "source": [
    "def hello(greeting='hello',name='world'):\n",
    "    print('{},{}'.format(greeting,name))\n",
    "\n",
    "hello()\n",
    "hello('hi') \n",
    "hello('hi','yg')\n",
    "hello(name='yg')"
   ]
  },
  {
   "cell_type": "code",
   "execution_count": 82,
   "metadata": {},
   "outputs": [
    {
     "name": "stdout",
     "output_type": "stream",
     "text": [
      "[0, 1, 2, 3, 4, 5, 6, 7]\n",
      "[2, 3, 4, 5, 6, 7]\n",
      "[2, 4, 6]\n"
     ]
    }
   ],
   "source": [
    "def interval(start,end=None,step=1):\n",
    "    if end is None:\n",
    "        start,end=0,start\n",
    "    result=[]\n",
    "    i=start\n",
    "    while i<end:\n",
    "        result.append(i)\n",
    "        i+=step\n",
    "    return result\n",
    "\n",
    "print(interval(8))\n",
    "print(interval(2,8))\n",
    "print(interval(2,8,2))\n"
   ]
  },
  {
   "cell_type": "code",
   "execution_count": 83,
   "metadata": {},
   "outputs": [
    {
     "name": "stdout",
     "output_type": "stream",
     "text": [
      "test ok.\n"
     ]
    }
   ],
   "source": [
    "def sum(*params):\n",
    "    result=0\n",
    "    for item in params:\n",
    "        result+=item\n",
    "    return result\n",
    "\n",
    "assert(sum(1,2,3,4)==10)\n",
    "print('test ok.')\n"
   ]
  },
  {
   "cell_type": "code",
   "execution_count": 84,
   "metadata": {},
   "outputs": [
    {
     "name": "stdout",
     "output_type": "stream",
     "text": [
      "1 9\n"
     ]
    }
   ],
   "source": [
    "def print_sum(label,*params):\n",
    "    result=0\n",
    "    for item in params:\n",
    "        result+=item\n",
    "        \n",
    "    print(label,result)\n",
    "\n",
    "print_sum(1,2,3,4)"
   ]
  },
  {
   "cell_type": "code",
   "execution_count": 86,
   "metadata": {},
   "outputs": [
    {
     "name": "stdout",
     "output_type": "stream",
     "text": [
      "和 10\n"
     ]
    }
   ],
   "source": [
    "def print_sum(*params,label=sum):\n",
    "    result=0\n",
    "    for item in params:\n",
    "        result+=item\n",
    "        \n",
    "    print(label,result)\n",
    "\n",
    "print_sum(1,2,3,4,label='和')"
   ]
  },
  {
   "cell_type": "code",
   "execution_count": 87,
   "metadata": {},
   "outputs": [
    {
     "data": {
      "text/plain": [
       "15"
      ]
     },
     "execution_count": 87,
     "metadata": {},
     "output_type": "execute_result"
    }
   ],
   "source": [
    "x=[1,2,3,4,5]\n",
    "sum(*x)"
   ]
  },
  {
   "cell_type": "code",
   "execution_count": 90,
   "metadata": {},
   "outputs": [
    {
     "name": "stdout",
     "output_type": "stream",
     "text": [
      "2\n"
     ]
    }
   ],
   "source": [
    "def foo():\n",
    "    x=2\n",
    "    print(x)\n",
    "\n",
    "x=1\n",
    "foo()"
   ]
  },
  {
   "cell_type": "code",
   "execution_count": 91,
   "metadata": {},
   "outputs": [
    {
     "name": "stdout",
     "output_type": "stream",
     "text": [
      "1\n"
     ]
    }
   ],
   "source": [
    "def foo():\n",
    "    x=2\n",
    "    print(globals()['x'])\n",
    "\n",
    "x=1\n",
    "foo()"
   ]
  },
  {
   "cell_type": "code",
   "execution_count": 94,
   "metadata": {},
   "outputs": [
    {
     "data": {
      "text/plain": [
       "2"
      ]
     },
     "execution_count": 94,
     "metadata": {},
     "output_type": "execute_result"
    }
   ],
   "source": [
    "def change_globals():\n",
    "    global x\n",
    "    x+=1\n",
    "\n",
    "change_globals()\n",
    "x"
   ]
  },
  {
   "cell_type": "code",
   "execution_count": 95,
   "metadata": {},
   "outputs": [
    {
     "name": "stdout",
     "output_type": "stream",
     "text": [
      "10\n",
      "18\n"
     ]
    },
    {
     "data": {
      "text/plain": [
       "18"
      ]
     },
     "execution_count": 95,
     "metadata": {},
     "output_type": "execute_result"
    }
   ],
   "source": [
    "def multiplier(factor):\n",
    "    def multiplierByFactor(number):\n",
    "        return number*factor\n",
    "    return multiplierByFactor\n",
    "\n",
    "double=multiplier(2)\n",
    "print(double(5))\n",
    "\n",
    "triple=multiplier(3)\n",
    "print(triple(6))\n",
    "\n",
    "multiplier(3)(6)\n"
   ]
  },
  {
   "cell_type": "code",
   "execution_count": null,
   "metadata": {},
   "outputs": [],
   "source": []
  }
 ],
 "metadata": {
  "kernelspec": {
   "display_name": "Python 3",
   "language": "python",
   "name": "python3"
  },
  "language_info": {
   "codemirror_mode": {
    "name": "ipython",
    "version": 3
   },
   "file_extension": ".py",
   "mimetype": "text/x-python",
   "name": "python",
   "nbconvert_exporter": "python",
   "pygments_lexer": "ipython3",
   "version": "3.7.4"
  }
 },
 "nbformat": 4,
 "nbformat_minor": 2
}
