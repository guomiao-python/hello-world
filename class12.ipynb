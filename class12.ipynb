{
 "cells": [
  {
   "cell_type": "code",
   "execution_count": 2,
   "metadata": {},
   "outputs": [],
   "source": [
    "from tkinter import*\n",
    "from tkinter import ttk"
   ]
  },
  {
   "cell_type": "code",
   "execution_count": null,
   "metadata": {},
   "outputs": [],
   "source": [
    "#Graphical User Interface\n",
    "def on_click():\n",
    "    print('hello')\n",
    "    \n",
    "button=ttk.Button()\n",
    "button.pack()\n",
    "button['text']='Click me!'\n",
    "button['command']=on_click\n",
    "\n",
    "mainloop()"
   ]
  },
  {
   "cell_type": "code",
   "execution_count": 6,
   "metadata": {},
   "outputs": [
    {
     "ename": "SyntaxError",
     "evalue": "invalid syntax (<ipython-input-6-2a1ad4273827>, line 1)",
     "output_type": "error",
     "traceback": [
      "\u001b[1;36m  File \u001b[1;32m\"<ipython-input-6-2a1ad4273827>\"\u001b[1;36m, line \u001b[1;32m1\u001b[0m\n\u001b[1;33m    for i in range(10)\u001b[0m\n\u001b[1;37m                      ^\u001b[0m\n\u001b[1;31mSyntaxError\u001b[0m\u001b[1;31m:\u001b[0m invalid syntax\n"
     ]
    }
   ],
   "source": [
    "for i in range(10)\n",
    "    ttk.Button(text=i).pack()\n",
    "    \n",
    "mainloop()"
   ]
  },
  {
   "cell_type": "code",
   "execution_count": null,
   "metadata": {},
   "outputs": [],
   "source": [
    "def on_click():\n",
    "    print('hello')\n",
    "\n",
    "ttk.Label(text='hello').pack()\n",
    "\n",
    "button=ttk.Button()\n",
    "button.pack()\n",
    "button['text']='Click me!'\n",
    "button['command']=on_click\n",
    "\n",
    "mainloop()"
   ]
  },
  {
   "cell_type": "code",
   "execution_count": null,
   "metadata": {},
   "outputs": [],
   "source": [
    "for i in range(4):\n",
    "    for j in range(5):\n",
    "        text='{}.{}'.format(i,j)\n",
    "        ttk.Button(text=text).grid(row=i,column=j)\n",
    "\n",
    "mainloop()"
   ]
  },
  {
   "cell_type": "code",
   "execution_count": null,
   "metadata": {},
   "outputs": [],
   "source": [
    "from tkinter import*\n",
    "from tkinter ttk\n",
    "\n",
    "class Calculator(Tk):\n",
    "    def __init__(self,*args,**kwargs):\n",
    "        super().init__(*args,**kwargs)\n",
    "        self>title('Simple caculator')\n",
    "        \n",
    "        #row 1\n",
    "        row=Frame(self)\n",
    "        row.pack(side)"
   ]
  }
 ],
 "metadata": {
  "kernelspec": {
   "display_name": "Python 3",
   "language": "python",
   "name": "python3"
  },
  "language_info": {
   "codemirror_mode": {
    "name": "ipython",
    "version": 3
   },
   "file_extension": ".py",
   "mimetype": "text/x-python",
   "name": "python",
   "nbconvert_exporter": "python",
   "pygments_lexer": "ipython3",
   "version": "3.7.4"
  }
 },
 "nbformat": 4,
 "nbformat_minor": 2
}
